{
 "cells": [
  {
   "cell_type": "code",
   "execution_count": 1,
   "metadata": {},
   "outputs": [],
   "source": [
    "import time\n",
    "import numpy as np \n",
    "from scipy import interpolate\n",
    "import matplotlib.pyplot as plt\n",
    "%matplotlib inline"
   ]
  },
  {
   "cell_type": "markdown",
   "metadata": {},
   "source": [
    "# CLASS tests"
   ]
  },
  {
   "cell_type": "code",
   "execution_count": 2,
   "metadata": {},
   "outputs": [
    {
     "data": {
      "text/plain": [
       "'v2.9.4'"
      ]
     },
     "execution_count": 2,
     "metadata": {},
     "output_type": "execute_result"
    }
   ],
   "source": [
    "from classy import Class\n",
    "import classy\n",
    "classy.__version__"
   ]
  },
  {
   "cell_type": "markdown",
   "metadata": {},
   "source": [
    "### Setup CLASS object"
   ]
  },
  {
   "cell_type": "code",
   "execution_count": 3,
   "metadata": {},
   "outputs": [
    {
     "name": "stdout",
     "output_type": "stream",
     "text": [
      "CLASS computation time (seconds):  1.868271827697754\n"
     ]
    }
   ],
   "source": [
    "def eta_0_val(c_min):\n",
    "    return 1.03-0.11*c_min\n",
    "\n",
    "#### Takahashi cosmology (fiducial) ####\n",
    "#omega_b = 0.02254 # Omega_b*h*h i.e. the physical baryon density \n",
    "#omega_cdm = 0.11417 # Omega_cdm*h*h i.e. the physical cdm density \n",
    "Omega_b = 0.046\n",
    "Omega_cdm = 0.233\n",
    "#Omega_cdm = 0.45-Omega_b\n",
    "h = 0.7\n",
    "sigma8 = 0.82\n",
    "n_s = 0.97\n",
    "#w_0 = -1.0\n",
    "w_0 = -1.8\n",
    "w_a = 0.0\n",
    "c_min = 1.8\n",
    "#eta_0 = 0.603 # emu_dmonly (fiducial)\n",
    "eta_0 = eta_0_val(c_min)\n",
    "Mv = 0.0\n",
    "\n",
    "'''\n",
    "Omega_b = 0.0448 \n",
    "Omega_cdm = 0.2648 - Omega_b \n",
    "h = 0.71\n",
    "sigma8 = 0.801\n",
    "n_s = 0.963\n",
    "Mv = 0.0\n",
    "A_s = 2.165e-9\n",
    "'''\n",
    "\n",
    "omega_b = Omega_b * h * h\n",
    "omega_cdm = Omega_cdm * h * h\n",
    "\n",
    "if Mv == 0.0:\n",
    "    commonsettings_nl  = {\n",
    "                # The next line should be uncommented fgor higher precision (but significantly slower running)\n",
    "                #'ncdm_fluid_approximation':3,\n",
    "                # You may uncomment this line to get more info on the ncdm sector from Class:\n",
    "                #'background_verbose':10,\n",
    "                # omega_b here actually means Omega_b*h*h\n",
    "                'h':h,\n",
    "                'omega_b':omega_b,\n",
    "                'omega_cdm': omega_cdm,\n",
    "                'n_s':n_s,\n",
    "                'sigma8': sigma8,\n",
    "                #'A_s': A_s,\n",
    "                'Omega_Lambda':0.0,\n",
    "                'fluid_equation_of_state':'CLP',\n",
    "                'w0_fld':w_0,\n",
    "                'wa_fld':w_a,\n",
    "                'output':'mPk',\n",
    "                'P_k_max_1/Mpc':70,\n",
    "                'z_max_pk':3.0,\n",
    "                'non linear':'hmcode',\n",
    "                'eta_0':eta_0,\n",
    "                'c_min':c_min,\n",
    "                #'write warnings':'yes'\n",
    "                }\n",
    "\n",
    "\n",
    "#### CLASS computation for non-linear power spectrum #####\n",
    "class_start = time.time()\n",
    "\n",
    "cclass = Class()\n",
    "cclass.set(commonsettings_nl)\n",
    "cclass.compute()\n",
    "\n",
    "class_end = time.time()\n",
    "\n",
    "print('CLASS computation time (seconds): ', class_end - class_start)"
   ]
  },
  {
   "cell_type": "markdown",
   "metadata": {},
   "source": [
    "### Background quantities"
   ]
  },
  {
   "cell_type": "code",
   "execution_count": 4,
   "metadata": {},
   "outputs": [
    {
     "data": {
      "text/plain": [
       "{'z': array([1.00000000e+14, 9.93048659e+13, 9.86145640e+13, ...,\n",
       "        1.36880249e-02, 6.58190863e-03, 0.00000000e+00]),\n",
       " 'proper time [Gyr]': array([7.55850363e-26, 7.66469305e-26, 7.77237432e-26, ...,\n",
       "        1.47878694e+01, 1.48865631e+01, 1.49783299e+01]),\n",
       " 'conf. time [Mpc]': array([4.63478500e-09, 4.66752681e-09, 4.70026862e-09, ...,\n",
       "        1.48867687e+04, 1.49173349e+04, 1.49455625e+04]),\n",
       " 'H [1/Mpc]': array([2.15754595e+22, 2.12765453e+22, 2.09817724e+22, ...,\n",
       "        2.32145625e-04, 2.32826803e-04, 2.33494915e-04]),\n",
       " 'comov. dist.': array([14945.56250536, 14945.56250536, 14945.56250536, ...,\n",
       "           58.79384145,    28.22761315,     0.        ]),\n",
       " 'ang.diam.dist.': array([1.49455625e-10, 1.50501814e-10, 1.51555327e-10, ...,\n",
       "        5.79999369e+01, 2.80430365e+01, 0.00000000e+00]),\n",
       " 'lum. dist.': array([1.49455625e+18, 1.48416708e+18, 1.47385013e+18, ...,\n",
       "        5.95986130e+01, 2.84134047e+01, 0.00000000e+00]),\n",
       " 'comov.snd.hrz.': array([2.67595816e-09, 2.69468987e-09, 2.71355270e-09, ...,\n",
       "        1.25643838e+03, 1.25711626e+03, 1.25774014e+03]),\n",
       " '(.)rho_g': array([2.75156054e+44, 2.67584646e+44, 2.60221579e+44, ...,\n",
       "        2.90533580e-12, 2.82472097e-12, 2.75156054e-12]),\n",
       " '(.)rho_b': array([2.50791323e+33, 2.45597586e+33, 2.40511409e+33, ...,\n",
       "        2.61231446e-09, 2.55776045e-09, 2.50791323e-09]),\n",
       " '(.)rho_cdm': array([1.27031257e+34, 1.24400517e+34, 1.21824257e+34, ...,\n",
       "        1.32319406e-08, 1.29556127e-08, 1.27031257e-08]),\n",
       " '(.)rho_fld': array([9.87275833e-42, 1.00394341e-41, 1.02089239e-41, ...,\n",
       "        3.80424210e-08, 3.86901681e-08, 3.93041816e-08]),\n",
       " '(.)w_fld': array([-1.8, -1.8, -1.8, ..., -1.8, -1.8, -1.8]),\n",
       " '(.)rho_ur': array([1.90344398e+44, 1.85106733e+44, 1.80013193e+44, ...,\n",
       "        2.00982092e-12, 1.95405409e-12, 1.90344398e-12]),\n",
       " '(.)rho_crit': array([4.65500451e+44, 4.52691379e+44, 4.40234771e+44, ...,\n",
       "        5.38915913e-08, 5.42083200e-08, 5.45198755e-08]),\n",
       " '(.)rho_tot': array([4.65500451e+44, 4.52691379e+44, 4.40234771e+44, ...,\n",
       "        5.38915913e-08, 5.42083200e-08, 5.45198755e-08]),\n",
       " '(.)p_tot': array([ 1.55166817e+44,  1.50897126e+44,  1.46744924e+44, ...,\n",
       "        -6.84747194e-08, -6.96407097e-08, -7.07459752e-08]),\n",
       " '(.)p_tot_prime': array([-1.33911815e+53, -1.29321741e+53, -1.24889001e+53, ...,\n",
       "        -3.76379014e-11, -3.86620406e-11, -3.96475000e-11]),\n",
       " 'gr.fac. D': array([5.23082295e-20, 7.29764008e-08, 1.45952802e-07, ...,\n",
       "        9.93083264e-01, 9.96681062e-01, 1.00000000e+00]),\n",
       " 'gr.fac. f': array([2.00000000e+14, 1.43356562e+02, 7.16782808e+01, ...,\n",
       "        5.17826862e-01, 5.10290159e-01, 5.03284505e-01])}"
      ]
     },
     "execution_count": 4,
     "metadata": {},
     "output_type": "execute_result"
    }
   ],
   "source": [
    "cclass.get_background()"
   ]
  },
  {
   "cell_type": "code",
   "execution_count": 5,
   "metadata": {},
   "outputs": [
    {
     "data": {
      "text/plain": [
       "array([1.00000000e+14, 9.93048659e+13, 9.86145640e+13, ...,\n",
       "       1.36880249e-02, 6.58190863e-03, 0.00000000e+00])"
      ]
     },
     "execution_count": 5,
     "metadata": {},
     "output_type": "execute_result"
    }
   ],
   "source": [
    "cclass.get_background()['z']"
   ]
  },
  {
   "cell_type": "code",
   "execution_count": 6,
   "metadata": {},
   "outputs": [
    {
     "data": {
      "text/plain": [
       "array([2.15754595e+22, 2.12765453e+22, 2.09817724e+22, ...,\n",
       "       2.32145625e-04, 2.32826803e-04, 2.33494915e-04])"
      ]
     },
     "execution_count": 6,
     "metadata": {},
     "output_type": "execute_result"
    }
   ],
   "source": [
    "cclass.get_background()['H [1/Mpc]']"
   ]
  },
  {
   "cell_type": "code",
   "execution_count": 7,
   "metadata": {},
   "outputs": [
    {
     "data": {
      "text/plain": [
       "array([14945.56250536, 14945.56250536, 14945.56250536, ...,\n",
       "          58.79384145,    28.22761315,     0.        ])"
      ]
     },
     "execution_count": 7,
     "metadata": {},
     "output_type": "execute_result"
    }
   ],
   "source": [
    "cclass.get_background()['comov. dist.']"
   ]
  },
  {
   "cell_type": "code",
   "execution_count": 8,
   "metadata": {},
   "outputs": [
    {
     "data": {
      "text/plain": [
       "array(42.91890104)"
      ]
     },
     "execution_count": 8,
     "metadata": {},
     "output_type": "execute_result"
    }
   ],
   "source": [
    "chi_z = interpolate.interp1d(cclass.get_background()['z'], cclass.get_background()['comov. dist.'], kind='cubic', fill_value=0.0)\n",
    "\n",
    "chi_z(0.01)"
   ]
  },
  {
   "cell_type": "code",
   "execution_count": 9,
   "metadata": {},
   "outputs": [
    {
     "data": {
      "text/plain": [
       "349.49636728900236"
      ]
     },
     "execution_count": 9,
     "metadata": {},
     "output_type": "execute_result"
    }
   ],
   "source": [
    "15000/chi_z(0.01)"
   ]
  },
  {
   "cell_type": "markdown",
   "metadata": {},
   "source": [
    "### Get sigma8 and growth factor"
   ]
  },
  {
   "cell_type": "code",
   "execution_count": 10,
   "metadata": {},
   "outputs": [
    {
     "data": {
      "text/plain": [
       "0.8200005745276931"
      ]
     },
     "execution_count": 10,
     "metadata": {},
     "output_type": "execute_result"
    }
   ],
   "source": [
    "cclass.sigma8()"
   ]
  },
  {
   "cell_type": "code",
   "execution_count": 11,
   "metadata": {},
   "outputs": [
    {
     "data": {
      "text/plain": [
       "-0.07071830887476334"
      ]
     },
     "execution_count": 11,
     "metadata": {},
     "output_type": "execute_result"
    }
   ],
   "source": [
    "cclass.sigma_prime(8,0.2)"
   ]
  },
  {
   "cell_type": "code",
   "execution_count": 12,
   "metadata": {},
   "outputs": [
    {
     "data": {
      "text/plain": [
       "1.0"
      ]
     },
     "execution_count": 12,
     "metadata": {},
     "output_type": "execute_result"
    }
   ],
   "source": [
    "cclass.scale_independent_growth_factor(0.0)"
   ]
  },
  {
   "cell_type": "code",
   "execution_count": 13,
   "metadata": {},
   "outputs": [
    {
     "data": {
      "text/plain": [
       "0.8450233766825826"
      ]
     },
     "execution_count": 13,
     "metadata": {},
     "output_type": "execute_result"
    }
   ],
   "source": [
    "cclass.scale_independent_growth_factor(0.3)"
   ]
  },
  {
   "cell_type": "markdown",
   "metadata": {},
   "source": [
    "### Compute matter power spectrum"
   ]
  },
  {
   "cell_type": "code",
   "execution_count": 14,
   "metadata": {},
   "outputs": [
    {
     "data": {
      "image/png": "[encoded data removed]",
      "text/plain": [
       "<Figure size 432x288 with 1 Axes>"
      ]
     },
     "metadata": {
      "needs_background": "light"
     },
     "output_type": "display_data"
    }
   ],
   "source": [
    "k_arr = np.logspace(np.log10(5e-4),np.log10(50),1000)\n",
    "z_arr = np.array([0.0])\n",
    "\n",
    "pk_arr_lin = cclass.get_pk_array(k_arr, z_arr, k_arr.size, z_arr.size, 0)\n",
    "pk_arr_nl = cclass.get_pk_array(k_arr, z_arr, k_arr.size, z_arr.size, 1)\n",
    "\n",
    "plt.plot(k_arr, pk_arr_lin)\n",
    "plt.plot(k_arr, pk_arr_nl)\n",
    "\n",
    "plt.xscale('log')\n",
    "plt.yscale('log')"
   ]
  },
  {
   "cell_type": "code",
   "execution_count": 15,
   "metadata": {},
   "outputs": [],
   "source": [
    "k_grid_points_ascending = k_arr\n",
    "z_grid_points_ascending = np.arange(0.0, 2.5, step=0.01)"
   ]
  },
  {
   "cell_type": "code",
   "execution_count": 16,
   "metadata": {},
   "outputs": [],
   "source": [
    "# get power spectrum at desired grid points\n",
    "\n",
    "Pk_array = cclass.get_pk_array(k_grid_points_ascending, z_grid_points_ascending, k_grid_points_ascending.size, z_grid_points_ascending.size, 0).reshape(z_grid_points_ascending.size, k_grid_points_ascending.size)"
   ]
  },
  {
   "cell_type": "code",
   "execution_count": 17,
   "metadata": {},
   "outputs": [
    {
     "data": {
      "image/png": "[encoded data removed]",
      "text/plain": [
       "<Figure size 432x288 with 1 Axes>"
      ]
     },
     "metadata": {
      "needs_background": "light"
     },
     "output_type": "display_data"
    }
   ],
   "source": [
    "plt.plot(k_grid_points_ascending, Pk_array[0,:])\n",
    "plt.plot(k_grid_points_ascending, Pk_array[200,:])\n",
    "plt.xscale('log')\n",
    "plt.yscale('log')"
   ]
  },
  {
   "cell_type": "code",
   "execution_count": 18,
   "metadata": {},
   "outputs": [
    {
     "data": {
      "text/plain": [
       "(133, 18)"
      ]
     },
     "execution_count": 18,
     "metadata": {},
     "output_type": "execute_result"
    }
   ],
   "source": [
    "# get power spectrum on pre-computed k,z grid points internally by CLASS\n",
    "\n",
    "cclass.get_pk_and_k_and_z()[0].shape"
   ]
  },
  {
   "cell_type": "code",
   "execution_count": 19,
   "metadata": {},
   "outputs": [
    {
     "data": {
      "text/plain": [
       "(133,)"
      ]
     },
     "execution_count": 19,
     "metadata": {},
     "output_type": "execute_result"
    }
   ],
   "source": [
    "# k values at which the power spectrum is computed\n",
    "\n",
    "cclass.get_pk_and_k_and_z()[1].shape"
   ]
  },
  {
   "cell_type": "code",
   "execution_count": 20,
   "metadata": {},
   "outputs": [
    {
     "data": {
      "text/plain": [
       "(18,)"
      ]
     },
     "execution_count": 20,
     "metadata": {},
     "output_type": "execute_result"
    }
   ],
   "source": [
    "# redshifts at which the power spectrum is computed\n",
    "\n",
    "cclass.get_pk_and_k_and_z()[2].shape"
   ]
  },
  {
   "cell_type": "markdown",
   "metadata": {},
   "source": [
    "### Compute the tilt of the matter power spectrum"
   ]
  },
  {
   "cell_type": "code",
   "execution_count": 21,
   "metadata": {},
   "outputs": [],
   "source": [
    "# compute pk_tilt as a function of k and z using class built-in function\n",
    "\n",
    "#k_arr = cclass.get_pk_and_k_and_z()[1][10:130]\n",
    "k_arr = np.logspace(np.log10(5e-4),np.log10(50),200)\n",
    "\n",
    "pk_tilt_k_z_array = np.zeros((k_arr.size,3))\n",
    "pk_nonlinear_tilt_k_z_array = np.zeros((k_arr.size,3))\n",
    "\n",
    "for i in range(k_arr.size):\n",
    "    pk_tilt_k_z_array[i, 0] = cclass.pk_tilt(k_arr[i], 0)\n",
    "    pk_tilt_k_z_array[i, 1] = cclass.pk_tilt(k_arr[i], 1)\n",
    "    pk_tilt_k_z_array[i, 2] = cclass.pk_tilt(k_arr[i], 2)\n",
    "\n",
    "    pk_nonlinear_tilt_k_z_array[i, 0] = cclass.pk_nonlinear_tilt(k_arr[i], 0)\n",
    "    pk_nonlinear_tilt_k_z_array[i, 1] = cclass.pk_nonlinear_tilt(k_arr[i], 1)\n",
    "    pk_nonlinear_tilt_k_z_array[i, 2] = cclass.pk_nonlinear_tilt(k_arr[i], 2)"
   ]
  },
  {
   "cell_type": "code",
   "execution_count": 22,
   "metadata": {},
   "outputs": [],
   "source": [
    "# compute pk_tilt as a function of k and z manually using numpy gradient\n",
    "\n",
    "pk_k_z_array = np.zeros((k_arr.size,3))\n",
    "pk_nonlinear_k_z_array = np.zeros((k_arr.size,3))\n",
    "\n",
    "pk_tilt_k_z_array_numpy_gradient = np.zeros((k_arr.size,3))\n",
    "pk_nonlinear_tilt_k_z_array_numpy_gradient = np.zeros((k_arr.size,3))\n",
    "\n",
    "for i in range(k_arr.size):\n",
    "    pk_k_z_array[i, 0] = cclass.pk_lin(k_arr[i], 0)\n",
    "    pk_k_z_array[i, 1] = cclass.pk_lin(k_arr[i], 1)\n",
    "    pk_k_z_array[i, 2] = cclass.pk_lin(k_arr[i], 2)\n",
    "\n",
    "    pk_nonlinear_k_z_array[i, 0] = cclass.pk(k_arr[i], 0)\n",
    "    pk_nonlinear_k_z_array[i, 1] = cclass.pk(k_arr[i], 1)\n",
    "    pk_nonlinear_k_z_array[i, 2] = cclass.pk(k_arr[i], 2)\n",
    "\n",
    "pk_tilt_k_z_array_numpy_gradient[:, 0] = np.gradient(np.log(pk_k_z_array[:, 0]), np.log(k_arr))\n",
    "pk_tilt_k_z_array_numpy_gradient[:, 1] = np.gradient(np.log(pk_k_z_array[:, 1]), np.log(k_arr))\n",
    "pk_tilt_k_z_array_numpy_gradient[:, 2] = np.gradient(np.log(pk_k_z_array[:, 2]), np.log(k_arr))\n",
    "\n",
    "pk_nonlinear_tilt_k_z_array_numpy_gradient[:, 0] = np.gradient(np.log(pk_nonlinear_k_z_array[:, 0]), np.log(k_arr))\n",
    "pk_nonlinear_tilt_k_z_array_numpy_gradient[:, 1] = np.gradient(np.log(pk_nonlinear_k_z_array[:, 1]), np.log(k_arr))\n",
    "pk_nonlinear_tilt_k_z_array_numpy_gradient[:, 2] = np.gradient(np.log(pk_nonlinear_k_z_array[:, 2]), np.log(k_arr))"
   ]
  },
  {
   "cell_type": "code",
   "execution_count": 23,
   "metadata": {},
   "outputs": [
    {
     "data": {
      "text/plain": [
       "Text(0.5, 1.0, 'Linear pk_tilt')"
      ]
     },
     "execution_count": 23,
     "metadata": {},
     "output_type": "execute_result"
    },
    {
     "data": {
      "image/png": "[encoded data removed]",
      "text/plain": [
       "<Figure size 720x432 with 1 Axes>"
      ]
     },
     "metadata": {
      "needs_background": "light"
     },
     "output_type": "display_data"
    }
   ],
   "source": [
    "plt.figure(figsize=(10,6))\n",
    "#plt.plot(k_arr, pk_tilt_k_z_array[:,0], c='b', ls='solid', label='z=0 (class built-in function)')\n",
    "plt.plot(k_arr, pk_tilt_k_z_array[:,1], c='g', ls='solid', label='z=1 (class built-in function)')\n",
    "#plt.plot(k_arr, pk_tilt_k_z_array[:,2], c='r', ls='solid', label='z=2 (class built-in function)')\n",
    "#plt.plot(k_arr, pk_tilt_k_z_array_numpy_gradient[:,0], c='b', ls='dashed', label='z=0 (np.gradient)')\n",
    "plt.plot(k_arr, pk_tilt_k_z_array_numpy_gradient[:,1], c='g', ls='dashed', label='z=1 (np.gradient)')\n",
    "#plt.plot(k_arr, pk_tilt_k_z_array_numpy_gradient[:,2], c='r', ls='dashed', label='z=2 (np.gradient)')\n",
    "plt.xscale('log')\n",
    "plt.xlabel('k [1/Mpc]',fontsize=14)\n",
    "plt.ylabel('dlnP(k)/dlnk',fontsize=14)\n",
    "plt.ylim(-3.0,1.1)\n",
    "plt.legend(fontsize=14)\n",
    "plt.title('Linear pk_tilt',fontsize=14)"
   ]
  },
  {
   "cell_type": "code",
   "execution_count": 24,
   "metadata": {},
   "outputs": [
    {
     "data": {
      "text/plain": [
       "Text(0.5, 1.0, 'Nonlinear pk_tilt')"
      ]
     },
     "execution_count": 24,
     "metadata": {},
     "output_type": "execute_result"
    },
    {
     "data": {
      "image/png": "[encoded data removed]",
      "text/plain": [
       "<Figure size 720x432 with 1 Axes>"
      ]
     },
     "metadata": {
      "needs_background": "light"
     },
     "output_type": "display_data"
    }
   ],
   "source": [
    "plt.figure(figsize=(10,6))\n",
    "#plt.plot(k_arr, pk_nonlinear_tilt_k_z_array[:,0], c='b', ls='solid', label='z=0 (class built-in function)')\n",
    "plt.plot(k_arr, pk_nonlinear_tilt_k_z_array[:,1], c='g', ls='solid', label='z=1 (class built-in function)')\n",
    "#plt.plot(k_arr, pk_nonlinear_tilt_k_z_array[:,2], c='r', ls='solid', label='z=2 (class built-in function)')\n",
    "#plt.plot(k_arr, pk_nonlinear_tilt_k_z_array_numpy_gradient[:,0], c='b', ls='dashed', label='z=0 (np.gradient)')\n",
    "plt.plot(k_arr, pk_nonlinear_tilt_k_z_array_numpy_gradient[:,1], c='g', ls='dashed', label='z=1 (np.gradient)')\n",
    "#plt.plot(k_arr, pk_nonlinear_tilt_k_z_array_numpy_gradient[:,2], c='r', ls='dashed', label='z=2 (np.gradient)')\n",
    "plt.xscale('log')\n",
    "plt.xlabel('k [1/Mpc]',fontsize=14)\n",
    "plt.ylabel('dlnP(k)/dlnk',fontsize=14)\n",
    "plt.ylim(-3.0,1.1)\n",
    "plt.legend(fontsize=14)\n",
    "plt.title('Nonlinear pk_tilt',fontsize=14)"
   ]
  },
  {
   "cell_type": "code",
   "execution_count": null,
   "metadata": {},
   "outputs": [],
   "source": []
  },
  {
   "cell_type": "code",
   "execution_count": null,
   "metadata": {},
   "outputs": [],
   "source": []
  }
 ],
 "metadata": {
  "interpreter": {
   "hash": "59f7c972767771a2055893ba8d0d8bada60eacffc377d0b05891d67b4661dbba"
  },
  "kernelspec": {
   "display_name": "Python 3.8.12 ('base')",
   "language": "python",
   "name": "python3"
  },
  "language_info": {
   "codemirror_mode": {
    "name": "ipython",
    "version": 3
   },
   "file_extension": ".py",
   "mimetype": "text/x-python",
   "name": "python",
   "nbconvert_exporter": "python",
   "pygments_lexer": "ipython3",
   "version": "3.8.12"
  },
  "orig_nbformat": 4
 },
 "nbformat": 4,
 "nbformat_minor": 2
}
